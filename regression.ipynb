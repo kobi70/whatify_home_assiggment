{
 "cells": [
  {
   "cell_type": "code",
   "execution_count": 1,
   "metadata": {},
   "outputs": [],
   "source": [
    "import numpy as np\n",
    "import pandas as pd\n",
    "from sklearn.model_selection import train_test_split\n",
    "from sklearn.metrics import roc_auc_score\n",
    "import xgboost as xgb\n",
    "from sklearn.pipeline import Pipeline\n",
    "from sklearn.base import BaseEstimator, TransformerMixin, ClassifierMixin\n",
    "from matplotlib import pyplot\n",
    "from scipy import stats\n",
    "\n",
    "\n"
   ]
  },
  {
   "cell_type": "code",
   "execution_count": 2,
   "metadata": {},
   "outputs": [],
   "source": [
    "def is_float(str):\n",
    "    try:\n",
    "        np.float64(str)\n",
    "    except:\n",
    "        return False\n",
    "    else:\n",
    "        return True"
   ]
  },
  {
   "cell_type": "code",
   "execution_count": 3,
   "metadata": {},
   "outputs": [
    {
     "name": "stdout",
     "output_type": "stream",
     "text": [
      "Read 7043 rows of data with 21 columns\n"
     ]
    }
   ],
   "source": [
    "# Read the data\n",
    "\n",
    "raw_data = pd.read_csv('WA_Fn-UseC_-Telco-Customer-Churn.csv')\n",
    "# Some samples have NaN 'TotalCharges'. Those are only new costumers having 'tenure' == 0.\n",
    "# We fix them to 'TotalCharges' = 0\n",
    "raw_data.loc[(raw_data['tenure'] == 0) & (~raw_data['TotalCharges'].apply(is_float)), 'TotalCharges'] = 0\n",
    "raw_data['TotalCharges'] = raw_data['TotalCharges']\n",
    "\n",
    "print(f'Read {len(raw_data)} rows of data with {len(raw_data.columns)} columns')"
   ]
  },
  {
   "cell_type": "code",
   "execution_count": 4,
   "metadata": {},
   "outputs": [
    {
     "name": "stdout",
     "output_type": "stream",
     "text": [
      "<class 'pandas.core.frame.DataFrame'>\n",
      "RangeIndex: 7043 entries, 0 to 7042\n",
      "Data columns (total 21 columns):\n",
      " #   Column            Non-Null Count  Dtype  \n",
      "---  ------            --------------  -----  \n",
      " 0   customerID        7043 non-null   object \n",
      " 1   gender            7043 non-null   object \n",
      " 2   SeniorCitizen     7043 non-null   int64  \n",
      " 3   Partner           7043 non-null   object \n",
      " 4   Dependents        7043 non-null   object \n",
      " 5   tenure            7043 non-null   int64  \n",
      " 6   PhoneService      7043 non-null   object \n",
      " 7   MultipleLines     7043 non-null   object \n",
      " 8   InternetService   7043 non-null   object \n",
      " 9   OnlineSecurity    7043 non-null   object \n",
      " 10  OnlineBackup      7043 non-null   object \n",
      " 11  DeviceProtection  7043 non-null   object \n",
      " 12  TechSupport       7043 non-null   object \n",
      " 13  StreamingTV       7043 non-null   object \n",
      " 14  StreamingMovies   7043 non-null   object \n",
      " 15  Contract          7043 non-null   object \n",
      " 16  PaperlessBilling  7043 non-null   object \n",
      " 17  PaymentMethod     7043 non-null   object \n",
      " 18  MonthlyCharges    7043 non-null   float64\n",
      " 19  TotalCharges      7043 non-null   object \n",
      " 20  Churn             7043 non-null   object \n",
      "dtypes: float64(1), int64(2), object(18)\n",
      "memory usage: 1.1+ MB\n"
     ]
    },
    {
     "data": {
      "text/html": [
       "<div>\n",
       "<style scoped>\n",
       "    .dataframe tbody tr th:only-of-type {\n",
       "        vertical-align: middle;\n",
       "    }\n",
       "\n",
       "    .dataframe tbody tr th {\n",
       "        vertical-align: top;\n",
       "    }\n",
       "\n",
       "    .dataframe thead th {\n",
       "        text-align: right;\n",
       "    }\n",
       "</style>\n",
       "<table border=\"1\" class=\"dataframe\">\n",
       "  <thead>\n",
       "    <tr style=\"text-align: right;\">\n",
       "      <th></th>\n",
       "      <th>SeniorCitizen</th>\n",
       "      <th>tenure</th>\n",
       "      <th>MonthlyCharges</th>\n",
       "    </tr>\n",
       "  </thead>\n",
       "  <tbody>\n",
       "    <tr>\n",
       "      <th>count</th>\n",
       "      <td>7043.000000</td>\n",
       "      <td>7043.000000</td>\n",
       "      <td>7043.000000</td>\n",
       "    </tr>\n",
       "    <tr>\n",
       "      <th>mean</th>\n",
       "      <td>0.162147</td>\n",
       "      <td>32.371149</td>\n",
       "      <td>64.761692</td>\n",
       "    </tr>\n",
       "    <tr>\n",
       "      <th>std</th>\n",
       "      <td>0.368612</td>\n",
       "      <td>24.559481</td>\n",
       "      <td>30.090047</td>\n",
       "    </tr>\n",
       "    <tr>\n",
       "      <th>min</th>\n",
       "      <td>0.000000</td>\n",
       "      <td>0.000000</td>\n",
       "      <td>18.250000</td>\n",
       "    </tr>\n",
       "    <tr>\n",
       "      <th>25%</th>\n",
       "      <td>0.000000</td>\n",
       "      <td>9.000000</td>\n",
       "      <td>35.500000</td>\n",
       "    </tr>\n",
       "    <tr>\n",
       "      <th>50%</th>\n",
       "      <td>0.000000</td>\n",
       "      <td>29.000000</td>\n",
       "      <td>70.350000</td>\n",
       "    </tr>\n",
       "    <tr>\n",
       "      <th>75%</th>\n",
       "      <td>0.000000</td>\n",
       "      <td>55.000000</td>\n",
       "      <td>89.850000</td>\n",
       "    </tr>\n",
       "    <tr>\n",
       "      <th>max</th>\n",
       "      <td>1.000000</td>\n",
       "      <td>72.000000</td>\n",
       "      <td>118.750000</td>\n",
       "    </tr>\n",
       "  </tbody>\n",
       "</table>\n",
       "</div>"
      ],
      "text/plain": [
       "       SeniorCitizen       tenure  MonthlyCharges\n",
       "count    7043.000000  7043.000000     7043.000000\n",
       "mean        0.162147    32.371149       64.761692\n",
       "std         0.368612    24.559481       30.090047\n",
       "min         0.000000     0.000000       18.250000\n",
       "25%         0.000000     9.000000       35.500000\n",
       "50%         0.000000    29.000000       70.350000\n",
       "75%         0.000000    55.000000       89.850000\n",
       "max         1.000000    72.000000      118.750000"
      ]
     },
     "execution_count": 4,
     "metadata": {},
     "output_type": "execute_result"
    }
   ],
   "source": [
    "# Get a glimpse of the data\n",
    "raw_data.info()\n",
    "raw_data.describe()"
   ]
  },
  {
   "cell_type": "code",
   "execution_count": 5,
   "metadata": {},
   "outputs": [],
   "source": [
    "# List the categorical features\n",
    "categorical_columns = [\n",
    "    'gender',\n",
    "    'SeniorCitizen',\n",
    "    'Partner',\n",
    "    'Dependents',\n",
    "    'PhoneService',\n",
    "    'MultipleLines',\n",
    "    'InternetService',\n",
    "    'OnlineSecurity',\n",
    "    'OnlineBackup',\n",
    "    'DeviceProtection',\n",
    "    'TechSupport',\n",
    "    'StreamingTV',\n",
    "    'StreamingMovies',\n",
    "    'Contract',\n",
    "    'PaperlessBilling',\n",
    "    'PaymentMethod',\n",
    "]\n"
   ]
  },
  {
   "cell_type": "code",
   "execution_count": 6,
   "metadata": {},
   "outputs": [
    {
     "name": "stdout",
     "output_type": "stream",
     "text": [
      "column gender has 2 different categories\n",
      "Male      3555\n",
      "Female    3488\n",
      "Name: gender, dtype: int64\n",
      "xxxxxxxxxxxxxxxxxxxxxxxxxxxxxxxxxxx\n",
      "column SeniorCitizen has 2 different categories\n",
      "0    5901\n",
      "1    1142\n",
      "Name: SeniorCitizen, dtype: int64\n",
      "xxxxxxxxxxxxxxxxxxxxxxxxxxxxxxxxxxx\n",
      "column Partner has 2 different categories\n",
      "No     3641\n",
      "Yes    3402\n",
      "Name: Partner, dtype: int64\n",
      "xxxxxxxxxxxxxxxxxxxxxxxxxxxxxxxxxxx\n",
      "column Dependents has 2 different categories\n",
      "No     4933\n",
      "Yes    2110\n",
      "Name: Dependents, dtype: int64\n",
      "xxxxxxxxxxxxxxxxxxxxxxxxxxxxxxxxxxx\n",
      "column PhoneService has 2 different categories\n",
      "Yes    6361\n",
      "No      682\n",
      "Name: PhoneService, dtype: int64\n",
      "xxxxxxxxxxxxxxxxxxxxxxxxxxxxxxxxxxx\n",
      "column MultipleLines has 3 different categories\n",
      "No                  3390\n",
      "Yes                 2971\n",
      "No phone service     682\n",
      "Name: MultipleLines, dtype: int64\n",
      "xxxxxxxxxxxxxxxxxxxxxxxxxxxxxxxxxxx\n",
      "column InternetService has 3 different categories\n",
      "Fiber optic    3096\n",
      "DSL            2421\n",
      "No             1526\n",
      "Name: InternetService, dtype: int64\n",
      "xxxxxxxxxxxxxxxxxxxxxxxxxxxxxxxxxxx\n",
      "column OnlineSecurity has 3 different categories\n",
      "No                     3498\n",
      "Yes                    2019\n",
      "No internet service    1526\n",
      "Name: OnlineSecurity, dtype: int64\n",
      "xxxxxxxxxxxxxxxxxxxxxxxxxxxxxxxxxxx\n",
      "column OnlineBackup has 3 different categories\n",
      "No                     3088\n",
      "Yes                    2429\n",
      "No internet service    1526\n",
      "Name: OnlineBackup, dtype: int64\n",
      "xxxxxxxxxxxxxxxxxxxxxxxxxxxxxxxxxxx\n",
      "column DeviceProtection has 3 different categories\n",
      "No                     3095\n",
      "Yes                    2422\n",
      "No internet service    1526\n",
      "Name: DeviceProtection, dtype: int64\n",
      "xxxxxxxxxxxxxxxxxxxxxxxxxxxxxxxxxxx\n",
      "column TechSupport has 3 different categories\n",
      "No                     3473\n",
      "Yes                    2044\n",
      "No internet service    1526\n",
      "Name: TechSupport, dtype: int64\n",
      "xxxxxxxxxxxxxxxxxxxxxxxxxxxxxxxxxxx\n",
      "column StreamingTV has 3 different categories\n",
      "No                     2810\n",
      "Yes                    2707\n",
      "No internet service    1526\n",
      "Name: StreamingTV, dtype: int64\n",
      "xxxxxxxxxxxxxxxxxxxxxxxxxxxxxxxxxxx\n",
      "column StreamingMovies has 3 different categories\n",
      "No                     2785\n",
      "Yes                    2732\n",
      "No internet service    1526\n",
      "Name: StreamingMovies, dtype: int64\n",
      "xxxxxxxxxxxxxxxxxxxxxxxxxxxxxxxxxxx\n",
      "column Contract has 3 different categories\n",
      "Month-to-month    3875\n",
      "Two year          1695\n",
      "One year          1473\n",
      "Name: Contract, dtype: int64\n",
      "xxxxxxxxxxxxxxxxxxxxxxxxxxxxxxxxxxx\n",
      "column PaperlessBilling has 2 different categories\n",
      "Yes    4171\n",
      "No     2872\n",
      "Name: PaperlessBilling, dtype: int64\n",
      "xxxxxxxxxxxxxxxxxxxxxxxxxxxxxxxxxxx\n",
      "column PaymentMethod has 4 different categories\n",
      "Electronic check             2365\n",
      "Mailed check                 1612\n",
      "Bank transfer (automatic)    1544\n",
      "Credit card (automatic)      1522\n",
      "Name: PaymentMethod, dtype: int64\n",
      "xxxxxxxxxxxxxxxxxxxxxxxxxxxxxxxxxxx\n"
     ]
    }
   ],
   "source": [
    "# Get a better look at the categorical features\n",
    "\n",
    "def count_distinct_values(df, column_name):\n",
    "    return df[column_name].value_counts(dropna=False)\n",
    "\n",
    "for column in categorical_columns:\n",
    "    dict = count_distinct_values(raw_data, column)\n",
    "    print(f'column {column} has {len(dict)} different categories')\n",
    "    print(dict)\n",
    "    print('xxxxxxxxxxxxxxxxxxxxxxxxxxxxxxxxxxx')"
   ]
  },
  {
   "cell_type": "code",
   "execution_count": 7,
   "metadata": {},
   "outputs": [
    {
     "data": {
      "text/plain": [
       "<AxesSubplot:xlabel='tenure'>"
      ]
     },
     "execution_count": 7,
     "metadata": {},
     "output_type": "execute_result"
    },
    {
     "data": {
      "image/png": "[encoded data removed]",
      "text/plain": [
       "<Figure size 432x288 with 1 Axes>"
      ]
     },
     "metadata": {
      "needs_background": "light"
     },
     "output_type": "display_data"
    }
   ],
   "source": [
    "# Get a look at the label 'tenure' - for all samples\n",
    "\n",
    "raw_data.groupby('tenure')['tenure'].count().plot.bar()\n"
   ]
  },
  {
   "cell_type": "code",
   "execution_count": 8,
   "metadata": {},
   "outputs": [
    {
     "data": {
      "text/plain": [
       "<AxesSubplot:xlabel='tenure'>"
      ]
     },
     "execution_count": 8,
     "metadata": {},
     "output_type": "execute_result"
    },
    {
     "data": {
      "image/png": "[encoded data removed]",
      "text/plain": [
       "<Figure size 432x288 with 1 Axes>"
      ]
     },
     "metadata": {
      "needs_background": "light"
     },
     "output_type": "display_data"
    }
   ],
   "source": [
    "# Get a look at the label 'tenure' - for churners only\n",
    "\n",
    "raw_data[raw_data['Churn'] == 'Yes'].groupby('tenure')['tenure'].count().plot.bar()"
   ]
  },
  {
   "cell_type": "code",
   "execution_count": 9,
   "metadata": {},
   "outputs": [],
   "source": [
    "# Convert each categorical feature to a continuous feature by replacing each category with its respective average label\n",
    "\n",
    "class BucketStatsFeatureTransformer(TransformerMixin, BaseEstimator):\n",
    "    def __init__(self, categorical_features, no_data_threshold, no_data_fallback):\n",
    "        self.categorical_features = categorical_features\n",
    "        self.no_data_threshold = no_data_threshold\n",
    "        self.no_data_fallback = no_data_fallback\n",
    "        print('BucketStatsFeatureTransformer:')\n",
    "        print(f'categorical_features = {categorical_features}')\n",
    "        print(f'no_data_threshold = {no_data_threshold}, no_data_fallback = {no_data_fallback}')\n",
    "\n",
    "    def fit(self, x, y):\n",
    "        if self.no_data_fallback is None:\n",
    "            self.no_data_fallback = y.mean()\n",
    "        self.stats_dict = {}\n",
    "        for column_name in self.categorical_features:\n",
    "            self.stats_dict[column_name] = self.get_one_column_stats(x, column_name, y)\n",
    "        return self\n",
    "\n",
    "    def get_one_column_stats(self, x, column_name, y):\n",
    "        df = pd.concat([x[column_name], y], axis=1)\n",
    "        df.columns = [column_name, 'label']\n",
    "        stats = df.groupby([column_name])['label'].agg(['mean', 'count'])\n",
    "        stats = stats[stats['count'] >= self.no_data_threshold]\n",
    "        stats.drop('count', axis=1, inplace=True)\n",
    "\n",
    "        print(f'Found {len(stats)} meaningful  buckets for categorical feature {column_name}')\n",
    "        return stats\n",
    "    \n",
    "    def transform(self, x):\n",
    "        for column_name in self.categorical_features:\n",
    "            x = self.transform_one_column(x, column_name)\n",
    "        return x\n",
    "\n",
    "    def transform_one_column(self, x, column_name):\n",
    "        stats_df = self.stats_dict[column_name]\n",
    "        df = pd.merge(x, stats_df, how='left', left_on=column_name, right_index=True)\n",
    "        df.loc[df['mean'].isna(), 'mean'] = self.no_data_fallback\n",
    "        df.drop(column_name, axis=1, inplace=True)\n",
    "        df.rename(columns={'mean': column_name}, inplace=True)\n",
    "        return df\n"
   ]
  },
  {
   "cell_type": "code",
   "execution_count": 10,
   "metadata": {},
   "outputs": [],
   "source": [
    "# Filter the data and keep churners only\n",
    "churn_only_regression_data = raw_data[raw_data['Churn'] == 'Yes'].copy()\n",
    "\n",
    "# x,y split - 'tenure' is our label\n",
    "regression_label = churn_only_regression_data['tenure'].astype('float64')\n",
    "\n",
    "# Drop undesired columns including 'Churn' and 'tenure'\n",
    "# but also 'customerID' which is meaningles and 'TotalCharges' which is highly correlated with 'tenure'\n",
    "regression_features = churn_only_regression_data.drop(['customerID', 'Churn', 'tenure', 'TotalCharges'], axis=1)\n",
    "\n",
    "x_train, x_test, y_train, y_test = train_test_split(\n",
    "    regression_features, regression_label, test_size=0.2, random_state=333)"
   ]
  },
  {
   "cell_type": "code",
   "execution_count": 11,
   "metadata": {},
   "outputs": [],
   "source": [
    "def print_regression_scores(title, predicted, actual):\n",
    "    diff = predicted - actual\n",
    "    mae = abs(diff).mean()\n",
    "    rmse = (diff * diff).mean()**0.5\n",
    "    pearson_correlation = stats.pearsonr(predicted, actual)[0]\n",
    "    pearson_correlation = stats.pearsonr(predicted, actual)[0]\n",
    "    print(f'{title}: {mae:.6f}, {rmse:.6f}, {pearson_correlation:.6f}')\n"
   ]
  },
  {
   "cell_type": "code",
   "execution_count": 12,
   "metadata": {},
   "outputs": [
    {
     "name": "stdout",
     "output_type": "stream",
     "text": [
      "BucketStatsFeatureTransformer:\n",
      "categorical_features = ['gender', 'SeniorCitizen', 'Partner', 'Dependents', 'PhoneService', 'MultipleLines', 'InternetService', 'OnlineSecurity', 'OnlineBackup', 'DeviceProtection', 'TechSupport', 'StreamingTV', 'StreamingMovies', 'Contract', 'PaperlessBilling', 'PaymentMethod']\n",
      "no_data_threshold = 100, no_data_fallback = None\n",
      "Starting XGBRegressor.fit()\n",
      "Found 2 meaningful  buckets for categorical feature gender\n",
      "Found 2 meaningful  buckets for categorical feature SeniorCitizen\n",
      "Found 2 meaningful  buckets for categorical feature Partner\n",
      "Found 2 meaningful  buckets for categorical feature Dependents\n",
      "Found 2 meaningful  buckets for categorical feature PhoneService\n",
      "Found 3 meaningful  buckets for categorical feature MultipleLines\n",
      "Found 2 meaningful  buckets for categorical feature InternetService\n",
      "Found 2 meaningful  buckets for categorical feature OnlineSecurity\n",
      "Found 2 meaningful  buckets for categorical feature OnlineBackup\n",
      "Found 2 meaningful  buckets for categorical feature DeviceProtection\n",
      "Found 2 meaningful  buckets for categorical feature TechSupport\n",
      "Found 2 meaningful  buckets for categorical feature StreamingTV\n",
      "Found 2 meaningful  buckets for categorical feature StreamingMovies\n",
      "Found 2 meaningful  buckets for categorical feature Contract\n",
      "Found 2 meaningful  buckets for categorical feature PaperlessBilling\n",
      "Found 4 meaningful  buckets for categorical feature PaymentMethod\n",
      "train score = 0.6092813662801255\n",
      "test score = 0.5741123582411045\n"
     ]
    },
    {
     "data": {
      "image/png": "[encoded data removed]",
      "text/plain": [
       "<Figure size 432x288 with 1 Axes>"
      ]
     },
     "metadata": {
      "needs_background": "light"
     },
     "output_type": "display_data"
    }
   ],
   "source": [
    "# XGBRegressor\n",
    "xgb_regressor = xgb.XGBRegressor(learning_rate=0.1, max_depth=3, min_child_weight=10, reg_alpha=0.0, reg_lambda=10.0, n_estimators=50)\n",
    "pipe = Pipeline([\n",
    "    ('bucket_stats', BucketStatsFeatureTransformer(categorical_columns, no_data_threshold=100, no_data_fallback=None)),\n",
    "    ('regressor', xgb_regressor)\n",
    "])\n",
    "print('Starting XGBRegressor.fit()')\n",
    "model = pipe.fit(x_train, y_train)\n",
    "\n",
    "print(f'train score = {model.score(x_train, y_train)}')\n",
    "print(f'test score = {model.score(x_test, y_test)}')\n",
    "\n",
    "feature_importances = xgb_regressor.feature_importances_\n",
    "pyplot.barh(x_train.columns, feature_importances)\n",
    "pyplot.title('Feature Importance')\n",
    "pyplot.ylabel('Feature')\n",
    "pyplot.xlabel('Importance')\n",
    "pyplot.show()\n"
   ]
  },
  {
   "cell_type": "code",
   "execution_count": 13,
   "metadata": {},
   "outputs": [
    {
     "name": "stdout",
     "output_type": "stream",
     "text": [
      "calculating scores (MAE, RMSE, Pearson Correlation)\n",
      "trivial baseline: 15.869379, 19.478834, nan\n",
      "xgb: 9.273714, 12.703180, 0.760846\n"
     ]
    },
    {
     "name": "stderr",
     "output_type": "stream",
     "text": [
      "C:\\Users\\97250\\AppData\\Roaming\\Python\\Python38\\site-packages\\scipy\\stats\\stats.py:3845: PearsonRConstantInputWarning: An input array is constant; the correlation coefficent is not defined.\n",
      "  warnings.warn(PearsonRConstantInputWarning())\n"
     ]
    }
   ],
   "source": [
    "print('calculating scores (MAE, RMSE, Pearson Correlation)')\n",
    "trivial_baseline = np.ones(y_test.shape) * y_train.mean()\n",
    "print_regression_scores('trivial baseline', trivial_baseline, y_test)\n",
    "\n",
    "predictions = model.predict(x_test)\n",
    "print_regression_scores('xgb', predictions, y_test)\n"
   ]
  }
 ],
 "metadata": {
  "kernelspec": {
   "display_name": "Python 3",
   "language": "python",
   "name": "python3"
  },
  "language_info": {
   "codemirror_mode": {
    "name": "ipython",
    "version": 3
   },
   "file_extension": ".py",
   "mimetype": "text/x-python",
   "name": "python",
   "nbconvert_exporter": "python",
   "pygments_lexer": "ipython3",
   "version": "3.8.6"
  }
 },
 "nbformat": 4,
 "nbformat_minor": 4
}
