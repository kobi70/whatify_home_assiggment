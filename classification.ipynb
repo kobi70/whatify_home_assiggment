{
 "cells": [
  {
   "cell_type": "code",
   "execution_count": 1,
   "metadata": {},
   "outputs": [],
   "source": [
    "import numpy as np\n",
    "import pandas as pd\n",
    "from sklearn.model_selection import train_test_split\n",
    "from sklearn.utils import shuffle\n",
    "from sklearn.metrics import roc_auc_score\n",
    "import xgboost as xgb\n",
    "from sklearn.pipeline import Pipeline\n",
    "from sklearn.base import BaseEstimator, TransformerMixin, ClassifierMixin\n",
    "from matplotlib import pyplot\n",
    "from scipy import stats\n",
    "\n",
    "\n"
   ]
  },
  {
   "cell_type": "code",
   "execution_count": 2,
   "metadata": {},
   "outputs": [],
   "source": [
    "def is_float(str):\n",
    "    try:\n",
    "        np.float64(str)\n",
    "    except:\n",
    "        return False\n",
    "    else:\n",
    "        return True"
   ]
  },
  {
   "cell_type": "code",
   "execution_count": 3,
   "metadata": {},
   "outputs": [
    {
     "name": "stdout",
     "output_type": "stream",
     "text": [
      "Read 7043 rows of data with 21 columns\n"
     ]
    }
   ],
   "source": [
    "# Read the data\n",
    "\n",
    "raw_data = pd.read_csv('WA_Fn-UseC_-Telco-Customer-Churn.csv')\n",
    "# Some samples have NaN 'TotalCharges'. Those are only new costumers having 'tenure' == 0.\n",
    "# We fix them to 'TotalCharges' = 0\n",
    "raw_data.loc[(raw_data['tenure'] == 0) & (~raw_data['TotalCharges'].apply(is_float)), 'TotalCharges'] = 0\n",
    "raw_data['TotalCharges'] = raw_data['TotalCharges'].astype('float64')\n",
    "\n",
    "\n",
    "print(f'Read {len(raw_data)} rows of data with {len(raw_data.columns)} columns')\n"
   ]
  },
  {
   "cell_type": "code",
   "execution_count": 4,
   "metadata": {},
   "outputs": [],
   "source": [
    "# List the categorical features\n",
    "categorical_columns = [\n",
    "    'gender',\n",
    "    'SeniorCitizen',\n",
    "    'Partner',\n",
    "    'Dependents',\n",
    "    'PhoneService',\n",
    "    'MultipleLines',\n",
    "    'InternetService',\n",
    "    'OnlineSecurity',\n",
    "    'OnlineBackup',\n",
    "    'DeviceProtection',\n",
    "    'TechSupport',\n",
    "    'StreamingTV',\n",
    "    'StreamingMovies',\n",
    "    'Contract',\n",
    "    'PaperlessBilling',\n",
    "    'PaymentMethod',\n",
    "]\n"
   ]
  },
  {
   "cell_type": "code",
   "execution_count": 5,
   "metadata": {},
   "outputs": [],
   "source": [
    "def inflate_churn_data(samples, labels, tick_column_name, inflated_label):\n",
    "        additional_samples = []\n",
    "        for _, sample in samples.iterrows():\n",
    "            additional_samples += get_additional_samples(sample, tick_column_name)\n",
    "        inflated_samples = samples.append(additional_samples, ignore_index=True)\n",
    "\n",
    "        additional_labels = [inflated_label for _ in additional_samples]\n",
    "        inflated_labels = labels.append(pd.Series(additional_labels), ignore_index=True)\n",
    "\n",
    "        inflated_samples = shuffle(inflated_samples, random_state=1234)\n",
    "        inflated_labels = shuffle(inflated_labels, random_state=1234)\n",
    "        \n",
    "        inflated_samples.reset_index(drop=True, inplace=True)\n",
    "        inflated_labels.reset_index(drop=True, inplace=True)\n",
    "\n",
    "        return inflated_samples, inflated_labels\n",
    "\n",
    "def get_additional_samples(sample, tick_column_name):\n",
    "    num_ticks = sample[tick_column_name]\n",
    "    return [clone_and_set(sample, tick_column_name, tick) for tick in range(0, num_ticks)]\n",
    "\n",
    "def clone_and_set(sample, column_name, value):\n",
    "    result = sample.copy()\n",
    "    result[column_name] = value\n",
    "    return result\n",
    "\n"
   ]
  },
  {
   "cell_type": "code",
   "execution_count": 6,
   "metadata": {},
   "outputs": [],
   "source": [
    "# Convert each categorical feature to a continuous feature by replacing each category with its respective average label\n",
    "\n",
    "class BucketStatsFeatureTransformer(TransformerMixin, BaseEstimator):\n",
    "    def __init__(self, categorical_features, no_data_threshold, no_data_fallback):\n",
    "        self.categorical_features = categorical_features\n",
    "        self.no_data_threshold = no_data_threshold\n",
    "        self.no_data_fallback = no_data_fallback\n",
    "        print('BucketStatsFeatureTransformer:')\n",
    "        print(f'categorical_features = {categorical_features}')\n",
    "        print(f'no_data_threshold = {no_data_threshold}, no_data_fallback = {no_data_fallback}')\n",
    "\n",
    "    def fit(self, x, y):\n",
    "        if self.no_data_fallback is None:\n",
    "            self.no_data_fallback = y.mean()\n",
    "        self.stats_dict = {}\n",
    "        for column_name in self.categorical_features:\n",
    "            self.stats_dict[column_name] = self.get_one_column_stats(x, column_name, y)\n",
    "        return self\n",
    "\n",
    "    def get_one_column_stats(self, x, column_name, y):\n",
    "        df = pd.concat([x[column_name], y], axis=1)\n",
    "        df.columns = [column_name, 'label']\n",
    "        stats = df.groupby([column_name])['label'].agg(['mean', 'count'])\n",
    "        stats = stats[stats['count'] >= self.no_data_threshold]\n",
    "        stats.drop('count', axis=1, inplace=True)\n",
    "\n",
    "        print(f'Found {len(stats)} meaningful  buckets for categorical feature {column_name}')\n",
    "        return stats\n",
    "    \n",
    "    def transform(self, x):\n",
    "        for column_name in self.categorical_features:\n",
    "            x = self.transform_one_column(x, column_name)\n",
    "        return x\n",
    "\n",
    "    def transform_one_column(self, x, column_name):\n",
    "        stats_df = self.stats_dict[column_name]\n",
    "        df = pd.merge(x, stats_df, how='left', left_on=column_name, right_index=True)\n",
    "        df.loc[df['mean'].isna(), 'mean'] = self.no_data_fallback\n",
    "        df.drop(column_name, axis=1, inplace=True)\n",
    "        df.rename(columns={'mean': column_name}, inplace=True)\n",
    "        return df\n",
    "\n"
   ]
  },
  {
   "cell_type": "code",
   "execution_count": 7,
   "metadata": {},
   "outputs": [
    {
     "name": "stdout",
     "output_type": "stream",
     "text": [
      "Before inflation: train size = 5634, test_size = 1409\n",
      "After inflation: train size = 186554, test_size = 48479\n"
     ]
    }
   ],
   "source": [
    "def convert_label(text_label):\n",
    "    if text_label == 'Yes':\n",
    "        return 1\n",
    "    else:\n",
    "        return 0\n",
    "\n",
    "# x,y split - 'Churn' is our label\n",
    "classification_label = raw_data['Churn'].apply(convert_label)\n",
    "\n",
    "# Drop the label 'Churn' and 'customerID' which is meaningles\n",
    "classification_features = raw_data.drop(['Churn', 'customerID'], axis=1)\n",
    "\n",
    "# Do the train-test split before the churn inflation\n",
    "x_train, x_test, y_train, y_test = train_test_split(classification_features,\n",
    "                                                    classification_label,\n",
    "                                                    test_size=0.2,\n",
    "                                                    random_state=333)\n",
    "print(f'Before inflation: train size = {len(x_train)}, test_size = {len(x_test)}')\n",
    "\n",
    "# Churn inflation:\n",
    "# We are actually adding no-churn samples for each month in the tenure period but the last.\n",
    "# We do this on the raw data and not as part of the pipeline because:\n",
    "# - We transform both x and y and not only x.\n",
    "# - We are adding new samples not modifying existing ones.\n",
    "# - This is done independently to the train and test data so there is nothing to learn/fit.\n",
    "x_train, y_train = inflate_churn_data(x_train, y_train, 'tenure', 0)\n",
    "x_test, y_test = inflate_churn_data(x_test, y_test, 'tenure', 0)\n",
    "print(f'After inflation: train size = {len(x_train)}, test_size = {len(x_test)}')\n",
    "\n"
   ]
  },
  {
   "cell_type": "code",
   "execution_count": 8,
   "metadata": {},
   "outputs": [],
   "source": [
    "def print_prediction_scores(text, probabilities, label):\n",
    "    diff = probabilities - label\n",
    "    mae = abs(diff).mean()\n",
    "    rmse = (diff * diff).mean()**0.5\n",
    "    roc_auc = roc_auc_score(label, probabilities)\n",
    "    print(f'{text}: {mae:.6f}, {rmse:.6f}, {roc_auc:.6f}')\n",
    "\n",
    "def get_baseline_probabilities(y_train, y_test):\n",
    "    global_ctr = y_train.mean()\n",
    "    return [global_ctr for _ in range(y_test.shape[0])]\n",
    "\n",
    "def get_better_baseline_probabilities(x_train, y_train, x_test, column_name):\n",
    "    transformer = BucketStatsFeatureTransformer([column_name], no_data_threshold=0, no_data_fallback=None)\n",
    "    transformer.fit(x_train, y_train)\n",
    "    df = transformer.transform(x_test)\n",
    "    return df[column_name]\n"
   ]
  },
  {
   "cell_type": "code",
   "execution_count": 9,
   "metadata": {},
   "outputs": [
    {
     "name": "stdout",
     "output_type": "stream",
     "text": [
      "BucketStatsFeatureTransformer:\n",
      "categorical_features = ['gender', 'SeniorCitizen', 'Partner', 'Dependents', 'PhoneService', 'MultipleLines', 'InternetService', 'OnlineSecurity', 'OnlineBackup', 'DeviceProtection', 'TechSupport', 'StreamingTV', 'StreamingMovies', 'Contract', 'PaperlessBilling', 'PaymentMethod']\n",
      "no_data_threshold = 100, no_data_fallback = None\n",
      "Starting XGBClassifier.fit()\n",
      "Found 2 meaningful  buckets for categorical feature gender\n",
      "Found 2 meaningful  buckets for categorical feature SeniorCitizen\n",
      "Found 2 meaningful  buckets for categorical feature Partner\n",
      "Found 2 meaningful  buckets for categorical feature Dependents\n",
      "Found 2 meaningful  buckets for categorical feature PhoneService\n",
      "Found 3 meaningful  buckets for categorical feature MultipleLines\n",
      "Found 3 meaningful  buckets for categorical feature InternetService\n",
      "Found 3 meaningful  buckets for categorical feature OnlineSecurity\n",
      "Found 3 meaningful  buckets for categorical feature OnlineBackup\n",
      "Found 3 meaningful  buckets for categorical feature DeviceProtection\n",
      "Found 3 meaningful  buckets for categorical feature TechSupport\n",
      "Found 3 meaningful  buckets for categorical feature StreamingTV\n",
      "Found 3 meaningful  buckets for categorical feature StreamingMovies\n",
      "Found 3 meaningful  buckets for categorical feature Contract\n",
      "Found 2 meaningful  buckets for categorical feature PaperlessBilling\n",
      "Found 4 meaningful  buckets for categorical feature PaymentMethod\n"
     ]
    },
    {
     "data": {
      "image/png": "[encoded data removed]",
      "text/plain": [
       "<Figure size 432x288 with 1 Axes>"
      ]
     },
     "metadata": {
      "needs_background": "light"
     },
     "output_type": "display_data"
    }
   ],
   "source": [
    "# XGBClassifier\n",
    "xgb_classifier = xgb.XGBClassifier(objective='binary:logistic', eval_metric='auc',\n",
    "                                  learning_rate=0.1, max_depth=3, reg_alpha=0, reg_lambda=0, n_estimators=500)\n",
    "pipe = Pipeline([\n",
    "    ('bucket_stats', BucketStatsFeatureTransformer(categorical_columns, no_data_threshold=100, no_data_fallback=None)),\n",
    "    ('classifier', xgb_classifier)\n",
    "\n",
    "])\n",
    "print('Starting XGBClassifier.fit()')\n",
    "model = pipe.fit(x_train, y_train)\n",
    "\n",
    "\n",
    "feature_importances = xgb_classifier.feature_importances_\n",
    "pyplot.barh(x_train.columns, feature_importances)\n",
    "pyplot.title('Feature Importance')\n",
    "pyplot.ylabel('Feature')\n",
    "pyplot.xlabel('Importance')\n",
    "pyplot.show()\n"
   ]
  },
  {
   "cell_type": "code",
   "execution_count": 10,
   "metadata": {},
   "outputs": [
    {
     "name": "stdout",
     "output_type": "stream",
     "text": [
      "BucketStatsFeatureTransformer:\n",
      "categorical_features = ['tenure']\n",
      "no_data_threshold = 0, no_data_fallback = None\n",
      "Found 73 meaningful  buckets for categorical feature tenure\n",
      "Scores: MAE, RMSE, AUC-ROC\n",
      "baseline: 0.015380, 0.085737, 0.500000\n",
      "better baseline: 0.015139, 0.085364, 0.677920\n",
      "model prediction: 0.010060, 0.069416, 0.988213\n"
     ]
    }
   ],
   "source": [
    "baseline = get_baseline_probabilities(y_train, y_test)\n",
    "better_baseline = get_better_baseline_probabilities(x_train, y_train, x_test, 'tenure')\n",
    "model_probabilities = model.predict_proba(x_test)[:,1]\n",
    "print('Scores: MAE, RMSE, AUC-ROC')\n",
    "print_prediction_scores('baseline', baseline, y_test)\n",
    "print_prediction_scores('better baseline', better_baseline, y_test)\n",
    "print_prediction_scores('model prediction', model_probabilities, y_test)\n",
    "\n",
    "\n"
   ]
  },
  {
   "cell_type": "code",
   "execution_count": null,
   "metadata": {},
   "outputs": [],
   "source": []
  }
 ],
 "metadata": {
  "kernelspec": {
   "display_name": "Python 3",
   "language": "python",
   "name": "python3"
  },
  "language_info": {
   "codemirror_mode": {
    "name": "ipython",
    "version": 3
   },
   "file_extension": ".py",
   "mimetype": "text/x-python",
   "name": "python",
   "nbconvert_exporter": "python",
   "pygments_lexer": "ipython3",
   "version": "3.8.6"
  }
 },
 "nbformat": 4,
 "nbformat_minor": 4
}
